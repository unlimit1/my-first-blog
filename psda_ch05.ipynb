{
  "nbformat": 4,
  "nbformat_minor": 0,
  "metadata": {
    "colab": {
      "name": "psda_ch05.ipynb",
      "provenance": [],
      "toc_visible": true,
      "authorship_tag": "ABX9TyNmLUPHFX4xhg6YfXAybq6a",
      "include_colab_link": true
    },
    "kernelspec": {
      "name": "python3",
      "display_name": "Python 3"
    }
  },
  "cells": [
    {
      "cell_type": "markdown",
      "metadata": {
        "id": "view-in-github",
        "colab_type": "text"
      },
      "source": [
        "<a href=\"https://colab.research.google.com/github/unlimit1/my-first-blog/blob/master/psda_ch05.ipynb\" target=\"_parent\"><img src=\"https://colab.research.google.com/assets/colab-badge.svg\" alt=\"Open In Colab\"/></a>"
      ]
    },
    {
      "cell_type": "code",
      "metadata": {
        "id": "gf0kmGw7VbRS"
      },
      "source": [
        "!pip install yfinance\r\n",
        "!pip install pymysql"
      ],
      "execution_count": null,
      "outputs": []
    },
    {
      "cell_type": "code",
      "metadata": {
        "id": "FI37EJNASIqX"
      },
      "source": [
        "# 야후파이낸스 패키지로 삼성전자 데이터 살펴보기 \r\n",
        "from pandas_datareader import data as pdr\r\n",
        "import yfinance as yf\r\n",
        "yf.pdr_override()\r\n",
        "import matplotlib.pyplot as plt\r\n",
        "\r\n",
        "df = pdr.get_data_yahoo('005930.KS', '2016-01-01')  # ① 삼성전자 \r\n",
        "print(df)\r\n",
        "\r\n",
        "plt.figure(figsize=(12, 10))  # 그래프 크기가 가로 12 세로 10 \r\n",
        "plt.subplot(2, 1, 1)  # ② 2행 1열 의 첫번째 영역 \r\n",
        "plt.title('Samsung Electronics (Yahoo Finance 005930.KS)')\r\n",
        "plt.plot(df.index, df['Close'], 'r', label='Close')  # ③\r\n",
        "plt.plot(df.index, df['Adj Close'], 'b--', label='Adj Close')  # ④\r\n",
        "plt.legend(loc='best')\r\n",
        "plt.subplot(2, 1, 2)  # ⑤\r\n",
        "plt.bar(df.index, df['Volume'], color='g', label='Volume')  # ⑥\r\n",
        "plt.legend(loc='best')\r\n",
        "plt.show()\r\n",
        "\r\n",
        "# Close 와 adj Close 가 서로 다르며 데이터가 신뢰할 수 없다 (2018.5 액면분할) 는 이야기를 하려고 했으나... 야후에서 이미 고친 듯 하다.. "
      ],
      "execution_count": null,
      "outputs": []
    },
    {
      "cell_type": "code",
      "metadata": {
        "colab": {
          "base_uri": "https://localhost:8080/",
          "height": 129
        },
        "id": "hq2GmarafbL9",
        "outputId": "a2cc7f30-851b-4c1f-c541-ce54482650d1"
      },
      "source": [
        "# MariaDB 연결 확인\r\n",
        "\r\n",
        "import pymysql\r\n",
        "\r\n",
        "connection = pymysql.connect(host='unlimit1.iptime.org', port=, db='mysql', \r\n",
        "    user='root', passwd='', autocommit=True)  \r\n",
        "\r\n",
        "cursor = connection.cursor()\r\n",
        "cursor.execute(\"SELECT VERSION();\")\r\n",
        "result = cursor.fetchone() # 한 row 만 returen 하는 함수 .. \r\n",
        "\r\n",
        "print (\"MariaDB version : {}\".format(result))\r\n",
        "\r\n",
        "connection.close()"
      ],
      "execution_count": 25,
      "outputs": [
        {
          "output_type": "error",
          "ename": "SyntaxError",
          "evalue": "ignored",
          "traceback": [
            "\u001b[0;36m  File \u001b[0;32m\"<ipython-input-25-b6a3210cb08b>\"\u001b[0;36m, line \u001b[0;32m5\u001b[0m\n\u001b[0;31m    connection = pymysql.connect(host='unlimit1.iptime.org', port=, db='mysql',\u001b[0m\n\u001b[0m                                                                  ^\u001b[0m\n\u001b[0;31mSyntaxError\u001b[0m\u001b[0;31m:\u001b[0m invalid syntax\n"
          ]
        }
      ]
    },
    {
      "cell_type": "code",
      "metadata": {
        "colab": {
          "base_uri": "https://localhost:8080/"
        },
        "id": "OQLTXlGKkuHz",
        "outputId": "0d2c4d67-2830-4d9c-eeba-7a954aefb697"
      },
      "source": [
        "!pwd"
      ],
      "execution_count": 24,
      "outputs": [
        {
          "output_type": "stream",
          "text": [
            "/content\n"
          ],
          "name": "stdout"
        }
      ]
    },
    {
      "cell_type": "code",
      "metadata": {
        "id": "e6CWiPKcsTdl"
      },
      "source": [
        ""
      ],
      "execution_count": null,
      "outputs": []
    }
  ]
}